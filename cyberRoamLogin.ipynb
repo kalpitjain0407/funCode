{
 "cells": [
  {
   "cell_type": "code",
   "execution_count": null,
   "metadata": {
    "collapsed": true
   },
   "outputs": [],
   "source": [
    "from selenium import webdriver\n",
    "from selenium.webdriver.common.by import By\n",
    "from selenium.webdriver.support.ui import WebDriverWait\n",
    "from selenium.webdriver.support import expected_conditions as EC\n",
    "\n",
    "usernamestr = 'be1047916'\n",
    "userpassstr = ''\n",
    "\n",
    "browser = webdriver.Chrome()\n",
    "browser.get(('https://172.16.1.1:8090/httpclient.html?u=http://go.microsoft.com/fwlink/?LinkID=219472&clcid=0x409'))\n",
    "\n",
    "username = browser.find_element_by_id('usernametxt')\n",
    "username.send_keys(usernamestr)\n",
    "password = find_element_by_name('password')\n",
    "password.send_keys(userpassstr)\n",
    "login = browser.get_element_by_id('logincaption')\n",
    "login.click()\n",
    "\n"
   ]
  }
 ],
 "metadata": {
  "kernelspec": {
   "display_name": "Python 3",
   "language": "python",
   "name": "python3"
  },
  "language_info": {
   "codemirror_mode": {
    "name": "ipython",
    "version": 3
   },
   "file_extension": ".py",
   "mimetype": "text/x-python",
   "name": "python",
   "nbconvert_exporter": "python",
   "pygments_lexer": "ipython3",
   "version": "3.6.3"
  }
 },
 "nbformat": 4,
 "nbformat_minor": 2
}
